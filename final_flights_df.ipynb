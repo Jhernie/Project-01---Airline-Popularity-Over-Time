{
 "cells": [
  {
   "cell_type": "code",
   "execution_count": 1,
   "id": "f26f67a7-470d-45f3-9ee4-3a3eea28b5ac",
   "metadata": {},
   "outputs": [],
   "source": [
    "# Import Dependencies\n",
    "import pandas as pd\n",
    "import os\n",
    "import csv\n",
    "import matplotlib.pyplot as plt\n",
    "import gmaps\n",
    "# Google developer API key\n",
    "from config import gkey\n",
    "\n",
    "# Configure gmaps\n",
    "gmaps.configure(api_key=gkey)\n",
    "import requests\n",
    "\n"
   ]
  },
  {
   "cell_type": "code",
   "execution_count": 2,
   "id": "63e7a02c-848b-480b-972a-675b3e2227b2",
   "metadata": {},
   "outputs": [
    {
     "data": {
      "text/html": [
       "<div>\n",
       "<style scoped>\n",
       "    .dataframe tbody tr th:only-of-type {\n",
       "        vertical-align: middle;\n",
       "    }\n",
       "\n",
       "    .dataframe tbody tr th {\n",
       "        vertical-align: top;\n",
       "    }\n",
       "\n",
       "    .dataframe thead th {\n",
       "        text-align: right;\n",
       "    }\n",
       "</style>\n",
       "<table border=\"1\" class=\"dataframe\">\n",
       "  <thead>\n",
       "    <tr style=\"text-align: right;\">\n",
       "      <th></th>\n",
       "      <th>Year</th>\n",
       "      <th>Quarter</th>\n",
       "      <th>Origin</th>\n",
       "      <th>State departure</th>\n",
       "      <th>Destination Airport</th>\n",
       "      <th>Airport Group</th>\n",
       "      <th>Ticket Carrier</th>\n",
       "      <th>Total Passengers</th>\n",
       "      <th>Ticket Cost</th>\n",
       "    </tr>\n",
       "  </thead>\n",
       "  <tbody>\n",
       "    <tr>\n",
       "      <th>0</th>\n",
       "      <td>2019</td>\n",
       "      <td>1</td>\n",
       "      <td>CLT</td>\n",
       "      <td>NC</td>\n",
       "      <td>SRQ</td>\n",
       "      <td>CLT:SRQ</td>\n",
       "      <td>AA</td>\n",
       "      <td>3.0</td>\n",
       "      <td>164.5</td>\n",
       "    </tr>\n",
       "    <tr>\n",
       "      <th>1</th>\n",
       "      <td>2019</td>\n",
       "      <td>1</td>\n",
       "      <td>SRQ</td>\n",
       "      <td>FL</td>\n",
       "      <td>CLT</td>\n",
       "      <td>SRQ:CLT</td>\n",
       "      <td>AA</td>\n",
       "      <td>3.0</td>\n",
       "      <td>164.5</td>\n",
       "    </tr>\n",
       "    <tr>\n",
       "      <th>2</th>\n",
       "      <td>2019</td>\n",
       "      <td>1</td>\n",
       "      <td>CLT</td>\n",
       "      <td>NC</td>\n",
       "      <td>SRQ</td>\n",
       "      <td>CLT:SRQ</td>\n",
       "      <td>AA</td>\n",
       "      <td>3.0</td>\n",
       "      <td>184.5</td>\n",
       "    </tr>\n",
       "    <tr>\n",
       "      <th>3</th>\n",
       "      <td>2019</td>\n",
       "      <td>1</td>\n",
       "      <td>SRQ</td>\n",
       "      <td>FL</td>\n",
       "      <td>CLT</td>\n",
       "      <td>SRQ:CLT</td>\n",
       "      <td>AA</td>\n",
       "      <td>3.0</td>\n",
       "      <td>184.5</td>\n",
       "    </tr>\n",
       "    <tr>\n",
       "      <th>4</th>\n",
       "      <td>2019</td>\n",
       "      <td>1</td>\n",
       "      <td>CLT</td>\n",
       "      <td>NC</td>\n",
       "      <td>SRQ</td>\n",
       "      <td>CLT:SRQ</td>\n",
       "      <td>AA</td>\n",
       "      <td>5.0</td>\n",
       "      <td>194.5</td>\n",
       "    </tr>\n",
       "  </tbody>\n",
       "</table>\n",
       "</div>"
      ],
      "text/plain": [
       "   Year  Quarter Origin State departure Destination Airport Airport Group  \\\n",
       "0  2019        1    CLT              NC                 SRQ       CLT:SRQ   \n",
       "1  2019        1    SRQ              FL                 CLT       SRQ:CLT   \n",
       "2  2019        1    CLT              NC                 SRQ       CLT:SRQ   \n",
       "3  2019        1    SRQ              FL                 CLT       SRQ:CLT   \n",
       "4  2019        1    CLT              NC                 SRQ       CLT:SRQ   \n",
       "\n",
       "  Ticket Carrier  Total Passengers  Ticket Cost  \n",
       "0             AA               3.0        164.5  \n",
       "1             AA               3.0        164.5  \n",
       "2             AA               3.0        184.5  \n",
       "3             AA               3.0        184.5  \n",
       "4             AA               5.0        194.5  "
      ]
     },
     "execution_count": 2,
     "metadata": {},
     "output_type": "execute_result"
    }
   ],
   "source": [
    "url = \"https://flightprojectnorthwestern.s3.us-east-2.amazonaws.com/flights_clean.csv\"\n",
    "\n",
    "flight_df = pd.read_csv(url)\n",
    "\n",
    "flight_df.head()"
   ]
  },
  {
   "cell_type": "code",
   "execution_count": 3,
   "id": "b317abee-701e-42e8-836b-4a43b8210814",
   "metadata": {},
   "outputs": [
    {
     "data": {
      "image/png": "[encoded data removed]",
      "text/plain": [
       "<Figure size 432x288 with 1 Axes>"
      ]
     },
     "metadata": {
      "needs_background": "light"
     },
     "output_type": "display_data"
    }
   ],
   "source": [
    "flights2019 = flight_df[flight_df[\"Year\"] == 2019]\n",
    "destination2019 = flights2019.groupby([\"Destination Airport\"])[\"Total Passengers\"].sum()\n",
    "destination2019= destination2019.sort_values(ascending = False)\n",
    "top2019 =destination2019.nlargest(n=10)\n",
    "top2019.plot(kind=\"bar\",ylabel=\"Passengers\")\n",
    "plt.title(\"Number of Passengers by Airport 2019\")\n",
    "plt.savefig(\"graphs/Number of Passengers by Airport 2019.png\")"
   ]
  },
  {
   "cell_type": "code",
   "execution_count": 4,
   "id": "fbb19626",
   "metadata": {},
   "outputs": [
    {
     "data": {
      "image/png": "[encoded data removed]",
      "text/plain": [
       "<Figure size 432x288 with 1 Axes>"
      ]
     },
     "metadata": {
      "needs_background": "light"
     },
     "output_type": "display_data"
    }
   ],
   "source": [
    "flights2020 = flight_df[flight_df[\"Year\"] == 2020]\n",
    "destination2020 = flights2020.groupby([\"Destination Airport\"])[\"Total Passengers\"].sum()\n",
    "destination2020= destination2020.sort_values(ascending = False)\n",
    "top2020 = destination2020.nlargest(n=10)\n",
    "top2020.plot(kind=\"bar\",ylabel=\"Passengers\")\n",
    "plt.title(\"Number of Passengers by Airport 2020\")\n",
    "plt.savefig(\"graphs/Number of Passengers by Airport 2020.png\")"
   ]
  },
  {
   "cell_type": "code",
   "execution_count": 5,
   "id": "3a2cc16b",
   "metadata": {},
   "outputs": [
    {
     "data": {
      "image/png": "[encoded data removed]",
      "text/plain": [
       "<Figure size 432x288 with 1 Axes>"
      ]
     },
     "metadata": {
      "needs_background": "light"
     },
     "output_type": "display_data"
    }
   ],
   "source": [
    "flights2021 = flight_df[flight_df[\"Year\"] == 2021]\n",
    "destination2021 = flights2021.groupby([\"Destination Airport\"])[\"Total Passengers\"].sum()\n",
    "destination2021= destination2021.sort_values(ascending = False)\n",
    "top2021 = destination2021.nlargest(n=10)\n",
    "top2021.plot(kind=\"bar\",ylabel=\"Passengers\")\n",
    "plt.title(\"Number of Passengers by Airport 2021\")\n",
    "plt.savefig(\"graphs/Number of Passengers by Airport 2021.png\")"
   ]
  },
  {
   "cell_type": "code",
   "execution_count": 6,
   "id": "8d47ef42",
   "metadata": {},
   "outputs": [],
   "source": [
    "airports_df = pd.read_csv(\"Datasets/airport-codes_csv.csv\")\n",
    "# Combine the data into a single dataset\n",
    "flights_airports2019_df = pd.merge(top2019, airports_df, how=\"left\", on=[\"Destination Airport\", \"Destination Airport\"])\n",
    "flights_airports2019_df = flights_airports2019_df.dropna()\n",
    "# Store latitude and longitude in locations\n",
    "locations = flights_airports2019_df[[\"Lat\", \"Long\"]].astype(float)\n",
    "\n",
    "# Fill NaN values and convert to float\n",
    "passengers = flights_airports2019_df[\"Total Passengers\"].astype(float)"
   ]
  },
  {
   "cell_type": "code",
   "execution_count": 7,
   "id": "fb8b04d8",
   "metadata": {},
   "outputs": [
    {
     "data": {
      "application/vnd.jupyter.widget-view+json": {
       "model_id": "2a39edf6d4ee494fa5fccff39da0a62c",
       "version_major": 2,
       "version_minor": 0
      },
      "text/plain": [
       "Figure(layout=FigureLayout(height='420px'))"
      ]
     },
     "metadata": {},
     "output_type": "display_data"
    }
   ],
   "source": [
    "# Plot Heatmap\n",
    "fig = gmaps.figure()\n",
    "\n",
    "# Create heat layer\n",
    "heat_layer = gmaps.heatmap_layer(locations, weights=passengers, \n",
    "                                 dissipating=False,\n",
    "                                 point_radius=1)\n",
    "\n",
    "\n",
    "# Add layer\n",
    "fig.add_layer(heat_layer)\n",
    "\n",
    "# Display figure\n",
    "fig"
   ]
  },
  {
   "cell_type": "code",
   "execution_count": 8,
   "id": "bbc17a0b",
   "metadata": {},
   "outputs": [
    {
     "data": {
      "application/vnd.jupyter.widget-view+json": {
       "model_id": "bc5a2e9d7f374b79b2b6e2a123c6336a",
       "version_major": 2,
       "version_minor": 0
      },
      "text/plain": [
       "Figure(layout=FigureLayout(height='420px'))"
      ]
     },
     "metadata": {},
     "output_type": "display_data"
    }
   ],
   "source": [
    "# Combine the data into a single dataset\n",
    "flights_airports2020_df = pd.merge(top2020, airports_df, how=\"left\", on=[\"Destination Airport\", \"Destination Airport\"])\n",
    "\n",
    "flights_airports2020_df = flights_airports2020_df.dropna()\n",
    "# Store latitude and longitude in locations\n",
    "locations2020 = flights_airports2020_df[[\"Lat\", \"Long\"]].astype(float)\n",
    "\n",
    "# Fill NaN values and convert to float\n",
    "passengers2020 = flights_airports2020_df[\"Total Passengers\"].astype(float)\n",
    "\n",
    "# Plot Heatmap\n",
    "fig20 = gmaps.figure()\n",
    "\n",
    "# Create heat layer\n",
    "heat_layer20 = gmaps.heatmap_layer(locations2020, weights=passengers2020, \n",
    "                                 dissipating=False,\n",
    "                                 point_radius=1)\n",
    "\n",
    "\n",
    "# Add layer\n",
    "fig20.add_layer(heat_layer20)\n",
    "\n",
    "# Display figure\n",
    "fig20"
   ]
  },
  {
   "cell_type": "code",
   "execution_count": 9,
   "id": "7ed7784e",
   "metadata": {},
   "outputs": [
    {
     "data": {
      "application/vnd.jupyter.widget-view+json": {
       "model_id": "4c16524389b64bc1adb64ef06607ff2c",
       "version_major": 2,
       "version_minor": 0
      },
      "text/plain": [
       "Figure(layout=FigureLayout(height='420px'))"
      ]
     },
     "metadata": {},
     "output_type": "display_data"
    }
   ],
   "source": [
    "# Combine the data into a single dataset\n",
    "flights_airports2021_df = pd.merge(top2021, airports_df, how=\"left\", on=[\"Destination Airport\", \"Destination Airport\"])\n",
    "\n",
    "flights_airports2021_df = flights_airports2021_df.dropna()\n",
    "# Store latitude and longitude in locations\n",
    "locations2021 = flights_airports2021_df[[\"Lat\", \"Long\"]].astype(float)\n",
    "\n",
    "# Fill NaN values and convert to float\n",
    "passengers2021 = flights_airports2021_df[\"Total Passengers\"].astype(float)\n",
    "\n",
    "# Plot Heatmap\n",
    "fig21 = gmaps.figure()\n",
    "\n",
    "# Create heat layer\n",
    "heat_layer21 = gmaps.heatmap_layer(locations2021, weights=passengers2021, \n",
    "                                 dissipating=False,\n",
    "                                 point_radius=1)\n",
    "\n",
    "# Add layer\n",
    "fig21.add_layer(heat_layer21)\n",
    "\n",
    "# Display figure\n",
    "fig21"
   ]
  },
  {
   "cell_type": "code",
   "execution_count": 32,
   "id": "9f88b507",
   "metadata": {},
   "outputs": [
    {
     "data": {
      "image/png": "[encoded data removed]",
      "text/plain": [
       "<Figure size 432x288 with 1 Axes>"
      ]
     },
     "metadata": {
      "needs_background": "light"
     },
     "output_type": "display_data"
    }
   ],
   "source": [
    "route2019 = flights2019.groupby([\"Airport Group\"])[\"Total Passengers\"].sum()\n",
    "route2019 = route2019.sort_values(ascending = False)\n",
    "route2019.nlargest(n=10).plot(kind=\"bar\",ylabel=\"Passengers\")\n",
    "plt.title(\"Number of Passengers by Route 2019\")\n",
    "plt.savefig(\"graphs/Number of Passengers by Route 2019.png\")"
   ]
  },
  {
   "cell_type": "code",
   "execution_count": 33,
   "id": "c538d250",
   "metadata": {},
   "outputs": [
    {
     "data": {
      "image/png": "[encoded data removed]",
      "text/plain": [
       "<Figure size 432x288 with 1 Axes>"
      ]
     },
     "metadata": {
      "needs_background": "light"
     },
     "output_type": "display_data"
    }
   ],
   "source": [
    "route2020 = flights2020.groupby([\"Airport Group\"])[\"Total Passengers\"].sum()\n",
    "route2020 = route2020.sort_values(ascending = False)\n",
    "route2020.nlargest(n=10).plot(kind=\"bar\",ylabel=\"Passengers\")\n",
    "plt.title(\"Number of Passengers by Route 2020\")\n",
    "plt.savefig(\"graphs/Number of Passengers by Route 2020.png\")"
   ]
  },
  {
   "cell_type": "code",
   "execution_count": 34,
   "id": "bfd9d372",
   "metadata": {},
   "outputs": [
    {
     "data": {
      "image/png": "[encoded data removed]",
      "text/plain": [
       "<Figure size 432x288 with 1 Axes>"
      ]
     },
     "metadata": {
      "needs_background": "light"
     },
     "output_type": "display_data"
    }
   ],
   "source": [
    "route2021 = flights2021.groupby([\"Airport Group\"])[\"Total Passengers\"].sum()\n",
    "route2021 = route2021.sort_values(ascending = False)\n",
    "route2021.nlargest(n=10).plot(kind=\"bar\",ylabel=\"Passengers\")\n",
    "plt.title(\"Number of Passengers by Route 2021\")\n",
    "plt.savefig(\"graphs/Number of Passengers by Route 2021.png\")"
   ]
  },
  {
   "cell_type": "code",
   "execution_count": 26,
   "id": "7b71be60",
   "metadata": {},
   "outputs": [
    {
     "data": {
      "application/vnd.jupyter.widget-view+json": {
       "model_id": "95c9e65fa2de4abc9affe5a10746ccb4",
       "version_major": 2,
       "version_minor": 0
      },
      "text/plain": [
       "Figure(layout=FigureLayout(height='420px'))"
      ]
     },
     "metadata": {},
     "output_type": "display_data"
    }
   ],
   "source": [
    "topflight2019 = route2019.index[0]\n",
    "origin2019 = topflight2019[0:3]\n",
    "destination2019 = topflight2019[4:]\n",
    "dataorigin = airports_df[airports_df[\"Destination Airport\"]== origin2019]\n",
    "datadestination = airports_df[airports_df[\"Destination Airport\"]== destination2019]\n",
    "data = pd.concat([dataorigin,datadestination])\n",
    "toplocations2019 = data[[\"Lat\", \"Long\"]].astype(float)\n",
    "markers = gmaps.marker_layer(toplocations2019)\n",
    "fig_new = gmaps.figure()\n",
    "fig_new.add_layer(markers)\n",
    "fig_new"
   ]
  },
  {
   "cell_type": "code",
   "execution_count": 27,
   "metadata": {},
   "outputs": [
    {
     "data": {
      "application/vnd.jupyter.widget-view+json": {
       "model_id": "7f5a6449bdb743efb12e63031a821c51",
       "version_major": 2,
       "version_minor": 0
      },
      "text/plain": [
       "Figure(layout=FigureLayout(height='420px'))"
      ]
     },
     "metadata": {},
     "output_type": "display_data"
    }
   ],
   "source": [
    "topflight2020 = route2020.index[0]\n",
    "origin2020 = topflight2020[0:3]\n",
    "destination2020 = topflight2020[4:]\n",
    "dataorigin20 = airports_df[airports_df[\"Destination Airport\"]== origin2020]\n",
    "datadestination20 = airports_df[airports_df[\"Destination Airport\"]== destination2020]\n",
    "data20 = pd.concat([dataorigin20,datadestination20])\n",
    "toplocations2020 = data20[[\"Lat\", \"Long\"]].astype(float)\n",
    "markers20 = gmaps.marker_layer(toplocations2020)\n",
    "fig_new20 = gmaps.figure()\n",
    "fig_new20.add_layer(markers20)\n",
    "fig_new20"
   ]
  },
  {
   "cell_type": "code",
   "execution_count": 28,
   "id": "b70d3a52",
   "metadata": {},
   "outputs": [
    {
     "data": {
      "application/vnd.jupyter.widget-view+json": {
       "model_id": "40f7292222584498b9658cf39072cf53",
       "version_major": 2,
       "version_minor": 0
      },
      "text/plain": [
       "Figure(layout=FigureLayout(height='420px'))"
      ]
     },
     "metadata": {},
     "output_type": "display_data"
    }
   ],
   "source": [
    "topflight2021 = route2021.index[0]\n",
    "origin2021 = topflight2021[0:3]\n",
    "destination2021 = topflight2021[4:]\n",
    "dataorigin21 = airports_df[airports_df[\"Destination Airport\"]== origin2021]\n",
    "datadestination21 = airports_df[airports_df[\"Destination Airport\"]== destination2021]\n",
    "data21 = pd.concat([dataorigin21,datadestination21])\n",
    "toplocations2021 = data21[[\"Lat\", \"Long\"]].astype(float)\n",
    "markers21 = gmaps.marker_layer(toplocations2021)\n",
    "fig_new21 = gmaps.figure()\n",
    "fig_new21.add_layer(markers21)\n",
    "fig_new21"
   ]
  },
  {
   "cell_type": "code",
   "execution_count": null,
   "id": "63b7df88",
   "metadata": {},
   "outputs": [],
   "source": []
  }
 ],
 "metadata": {
  "kernelspec": {
   "display_name": "Python 3.9.12 ('base')",
   "language": "python",
   "name": "python3"
  },
  "language_info": {
   "codemirror_mode": {
    "name": "ipython",
    "version": 3
   },
   "file_extension": ".py",
   "mimetype": "text/x-python",
   "name": "python",
   "nbconvert_exporter": "python",
   "pygments_lexer": "ipython3",
   "version": "3.9.12"
  },
  "vscode": {
   "interpreter": {
    "hash": "6cec7fd68fd1b36ed05ece2a49fd3b85d2edbc54cc094d2e7c31eab60aea10a2"
   }
  }
 },
 "nbformat": 4,
 "nbformat_minor": 5
}
